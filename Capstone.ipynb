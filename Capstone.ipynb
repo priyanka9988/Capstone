{
 "cells": [
  {
   "cell_type": "code",
   "execution_count": 3,
   "metadata": {},
   "outputs": [],
   "source": [
    "import pandas as pd\n",
    "import numpy as np\n",
    "import matplotlib.pyplot as plt\n",
    "import seaborn as sns\n",
    "import os\n",
    "import tensorflow as tf\n",
    "from keras.models import Sequential, Model\n",
    "from keras.layers import Dense, Dropout, Flatten, Conv2D, MaxPooling2D, Input, BatchNormalization, Activation, concatenate, GlobalAveragePooling2D, AveragePooling2D, GlobalMaxPooling2D\n",
    "from keras.optimizers import Adam\n",
    "import warnings\n",
    "warnings.filterwarnings('ignore')"
   ]
  },
  {
   "cell_type": "code",
   "execution_count": 8,
   "metadata": {},
   "outputs": [],
   "source": [
    "# Loading the data\n",
    "\n",
    "from skimage.transform import resize\n",
    "import os\n",
    "import matplotlib.pyplot as plt\n",
    "import numpy as np\n",
    "from sklearn.utils import shuffle\n",
    "\n",
    "# Load brain tumor detection dataset\n",
    "input_path = \"https://drive.google.com//drive//folders//1WOeodRmv1Mw5Cswuip3nUIi6ViQWKpo_\"\n",
    "yes = os.path.join(input_path, 'COVID')\n",
    "no = os.path.join(input_path, 'non-COVID')\n",
    "\n",
    "labels = ['COVID', 'Non-COVID']\n",
    "\n",
    "# Load images\n",
    "yes_list = os.listdir(yes)\n",
    "no_list = os.listdir(no)\n",
    "\n",
    "\n",
    "# Array to store images\n",
    "X = []\n",
    "y = []\n",
    "IMG_SIZE = (128, 128)\n",
    "\n",
    "# Load images with tumor\n",
    "for i in range(len(yes_list)):\n",
    "    file_path = os.path.join(yes, yes_list[i])\n",
    "\n",
    "    if os.path.exists(file_path):\n",
    "        img = plt.imread(file_path)\n",
    "        img_resized = resize(img, IMG_SIZE + (3,))  # Ensure 3 channels for RGB\n",
    "        X.append(img_resized)\n",
    "        y.append(1)\n",
    "    else:\n",
    "        print(f\"File not found: {file_path}\")\n",
    "\n",
    "# Load images without tumor\n",
    "for i in range(len(no_list)):\n",
    "    file_path = os.path.join(no, no_list[i])\n",
    "    if os.path.exists(file_path):\n",
    "        img = plt.imread(file_path)\n",
    "        img_resized = resize(img, IMG_SIZE + (3,))  # Ensure 3 channels for RGB\n",
    "        X.append(img_resized)\n",
    "        y.append(0)\n",
    "    else:\n",
    "        print(f\"File not found: {file_path}\")\n",
    "\n",
    "# Convert to numpy array\n",
    "X = np.array(X)\n",
    "y = np.array(y)\n",
    "\n",
    "# Shuffle data\n",
    "X, y = shuffle(X, y, random_state=42)"
   ]
  },
  {
   "cell_type": "code",
   "execution_count": 10,
   "metadata": {},
   "outputs": [],
   "source": [
    "X.shape,y.shape"
   ]
  },
  {
   "cell_type": "code",
   "execution_count": null,
   "metadata": {},
   "outputs": [],
   "source": [
    "# plot some images\n",
    "plt.figure(figsize=(10,10))\n",
    "for i in range(9):\n",
    "    plt.subplot(3,3,i+1)\n",
    "    plt.imshow(X[i])\n",
    "    plt.title(labels[y[i]])\n",
    "    plt.axis('off')"
   ]
  },
  {
   "cell_type": "code",
   "execution_count": null,
   "metadata": {},
   "outputs": [],
   "source": [
    "# split data into train and test 20% test\n",
    "from sklearn.model_selection import train_test_split\n",
    "X_train, X_test, y_train, y_test = train_test_split(X, y, stratify=y, random_state=42, test_size=0.2)\n",
    "\n",
    "# # normalize data\n",
    "# X_train = X_train / 255\n",
    "# X_test = X_test / 255\n",
    "\n",
    "# one hot encode target\n",
    "from keras.utils import to_categorical\n",
    "y_train_to_categorical = to_categorical(y_train)\n",
    "y_test_to_categorical = to_categorical(y_test)\n",
    "\n",
    "print(X_train.shape, X_test.shape, y_train_to_categorical.shape, y_test_to_categorical.shape)"
   ]
  },
  {
   "cell_type": "code",
   "execution_count": null,
   "metadata": {},
   "outputs": [],
   "source": [
    "from keras.applications import mobilenet_v2\n",
    "\n",
    "# Load the MobileNetV2 model\n",
    "mobile_net_v2_model = mobilenet_v2.MobileNetV2(weights='imagenet', include_top=False, input_shape=(128, 128, 3))"
   ]
  },
  {
   "cell_type": "code",
   "execution_count": null,
   "metadata": {},
   "outputs": [],
   "source": [
    "# Freeze the already-trained layers in the model\n",
    "for layer in mobile_net_v2_model.layers:\n",
    "    layer.trainable = False\n",
    "    \n",
    "# add custom layers\n",
    "model = Sequential()\n",
    "model.add(mobile_net_v2_model)\n",
    "model.add(GlobalAveragePooling2D())\n",
    "\n",
    "model.summary()"
   ]
  },
  {
   "cell_type": "code",
   "execution_count": null,
   "metadata": {},
   "outputs": [],
   "source": [
    "feature_train = model.predict(X_train)\n",
    "feature_test = model.predict(X_test)"
   ]
  },
  {
   "cell_type": "code",
   "execution_count": null,
   "metadata": {},
   "outputs": [],
   "source": [
    "print(feature_train.shape, feature_test.shape)\n"
   ]
  },
  {
   "cell_type": "code",
   "execution_count": null,
   "metadata": {},
   "outputs": [],
   "source": [
    "# Flatten extracted features\n",
    "flat_train = feature_train.reshape(feature_train.shape[0], -1)\n",
    "flat_test = feature_test.reshape(feature_test.shape[0], -1)"
   ]
  },
  {
   "cell_type": "code",
   "execution_count": null,
   "metadata": {},
   "outputs": [],
   "source": [
    "print(flat_train.shape, flat_test.shape)\n"
   ]
  },
  {
   "cell_type": "code",
   "execution_count": null,
   "metadata": {},
   "outputs": [],
   "source": [
    "y_train_flattened=y_train.ravel()\n",
    "y_test_flattened=y_test.ravel()\n",
    "y_train_flattened.shape,y_test_flattened.shape"
   ]
  },
  {
   "cell_type": "code",
   "execution_count": null,
   "metadata": {},
   "outputs": [],
   "source": [
    "# use genatic algorithm to find best features to use\n",
    "from sklearn.svm import SVC\n",
    "# Genetic Algorithm Parameters\n",
    "POP_SIZE = 10\n",
    "GENES = flat_train.shape[1]\n",
    "GENERATIONS = 50\n",
    "MUTATION_RATE = 0.01\n",
    "CROSSOVER_RATE = 0.7\n",
    "AVERAGE_ACC = [] # Average accuracy of each generation\n",
    "\n",
    "# Initialize population\n",
    "def initialize_population(population_size, genes):\n",
    "    return np.random.choice([0, 1], size=(population_size, genes))\n",
    "\n",
    "# Evaluate fitness using nn classifier\n",
    "def evaluate_fitness(population, X_train, X_test, y_train, y_test):\n",
    "    fitness_values = []\n",
    "    for chromosome in population:\n",
    "        selected_features = np.where(chromosome == 1)[0]\n",
    "        if len(selected_features) == 0:\n",
    "            fitness_values.append(0)\n",
    "            continue\n",
    "        X_train_selected = X_train[:, selected_features]\n",
    "        X_test_selected = X_test[:, selected_features]\n",
    "        model = SVC(kernel='poly', C=1)\n",
    "        model.fit(X_train_selected, y_train)\n",
    "        test_acc = model.score(X_test_selected, y_test)\n",
    "        print('Acc:', test_acc)\n",
    "        fitness_values.append(test_acc)\n",
    "\n",
    "    return np.array(fitness_values)\n",
    "\n",
    "# Perform crossover\n",
    "def crossover(parent1, parent2):\n",
    "    crossover_point = np.random.randint(0, len(parent1))\n",
    "    child1 = np.concatenate((parent1[:crossover_point], parent2[crossover_point:]))\n",
    "    child2 = np.concatenate((parent2[:crossover_point], parent1[crossover_point:]))\n",
    "    return child1, child2\n",
    "\n",
    "# Perform mutation\n",
    "def mutate(child):\n",
    "    mutation_mask = np.random.rand(len(child)) < MUTATION_RATE\n",
    "    child[mutation_mask] = 1 - child[mutation_mask]  # Flip the bits\n",
    "    return child\n",
    "\n",
    "# Main Genetic Algorithm\n",
    "def genetic_algorithm(X, y):\n",
    "    X_train, X_test, y_train, y_test = train_test_split(X, y, test_size=0.2, random_state=42)\n",
    "\n",
    "    population = initialize_population(POP_SIZE, GENES)\n",
    "\n",
    "    for generation in range(GENERATIONS):\n",
    "        print(f'=========================================== generation:{generation} =========================================== ')\n",
    "        fitness_values = evaluate_fitness(population, X_train, X_test, y_train, y_test)\n",
    "        selected_indices = np.argsort(fitness_values)[::-1][:int(POP_SIZE * CROSSOVER_RATE)]\n",
    "\n",
    "        new_population = []\n",
    "        AVERAGE_ACC.append(np.mean(fitness_values))\n",
    "        # Perform crossover and mutation\n",
    "        for _ in range(0, POP_SIZE, 2):\n",
    "            parent1 = population[np.random.choice(selected_indices)]\n",
    "            parent2 = population[np.random.choice(selected_indices)]\n",
    "            child1, child2 = crossover(parent1, parent2)\n",
    "            child1 = mutate(child1)\n",
    "            child2 = mutate(child2)\n",
    "            new_population.extend([child1, child2])\n",
    "\n",
    "        population = np.array(new_population)\n",
    "\n",
    "    best_individual = population[np.argmax(fitness_values)]\n",
    "    selected_features = np.where(best_individual == 1)[0]\n",
    "    return selected_features\n",
    "\n",
    "# usage\n",
    "selected_features = genetic_algorithm(flat_train, y_train_flattened)\n",
    "print(\"Selected Features:\", selected_features)"
   ]
  },
  {
   "cell_type": "code",
   "execution_count": null,
   "metadata": {},
   "outputs": [],
   "source": [
    "# plot the average accuracy of each generation\n",
    "plt.plot(AVERAGE_ACC)\n",
    "plt.xlabel('Generation')\n",
    "plt.ylabel('Average Accuracy')\n",
    "plt.title('Average Accuracy of Each Generation')\n",
    "plt.show()"
   ]
  },
  {
   "cell_type": "code",
   "execution_count": null,
   "metadata": {},
   "outputs": [],
   "source": [
    "flat_train[:, selected_features].shape\n"
   ]
  },
  {
   "cell_type": "code",
   "execution_count": null,
   "metadata": {},
   "outputs": [],
   "source": [
    "flat_train_selected_features=flat_train[:, selected_features]\n",
    "flat_test_selected_features=flat_test[:, selected_features]"
   ]
  },
  {
   "cell_type": "code",
   "execution_count": null,
   "metadata": {},
   "outputs": [],
   "source": [
    "# tarin svm model on all features\n",
    "model = SVC(kernel='poly', C=1)\n",
    "model.fit(flat_train_selected_features, y_train)\n",
    "test_acc = model.score(flat_test_selected_features, y_test)\n",
    "print('Acc:', test_acc)"
   ]
  },
  {
   "cell_type": "code",
   "execution_count": null,
   "metadata": {},
   "outputs": [],
   "source": [
    "# predict on test data\n",
    "predictions = model.predict(flat_test_selected_features)\n",
    "print(predictions.shape)\n",
    "\n",
    "# plot the results\n",
    "plt.figure(figsize=(10,10))\n",
    "for i in range(15):\n",
    "    n=np.random.randint(0, len(predictions))\n",
    "    plt.subplot(5,5,i+1)\n",
    "    plt.imshow(X_test[n])\n",
    "    plt.title(f'{labels[predictions[n]]}',color=\"red\" if y_test[n]!=predictions[n] else \"green\")\n",
    "    plt.suptitle('SVM Model', fontsize=16)\n",
    "    plt.axis('off')"
   ]
  },
  {
   "cell_type": "code",
   "execution_count": null,
   "metadata": {},
   "outputs": [],
   "source": [
    "# confusion matrix\n",
    "from sklearn.metrics import confusion_matrix\n",
    "cm = confusion_matrix(y_test, predictions)\n",
    "# heatmap\n",
    "plt.figure(figsize=(10,10))\n",
    "sns.heatmap(cm, annot=True, fmt='d')\n",
    "plt.xlabel('Predicted')\n",
    "plt.ylabel('Truth')\n",
    "plt.show()"
   ]
  },
  {
   "cell_type": "code",
   "execution_count": null,
   "metadata": {},
   "outputs": [],
   "source": [
    "# classification report\n",
    "from sklearn.metrics import classification_report\n",
    "print(classification_report(y_test, predictions))"
   ]
  },
  {
   "cell_type": "code",
   "execution_count": null,
   "metadata": {},
   "outputs": [],
   "source": [
    "# save model for svm \n",
    "import pickle\n",
    "pickle.dump(model, open('COVID DETECTION.sav', 'wb'))\n",
    "\n",
    "from IPython.display import FileLink\n",
    "FileLink(r'COVID DETECTION.sav')"
   ]
  }
 ],
 "metadata": {
  "kernelspec": {
   "display_name": "base",
   "language": "python",
   "name": "python3"
  },
  "language_info": {
   "codemirror_mode": {
    "name": "ipython",
    "version": 3
   },
   "file_extension": ".py",
   "mimetype": "text/x-python",
   "name": "python",
   "nbconvert_exporter": "python",
   "pygments_lexer": "ipython3",
   "version": "3.9.12"
  },
  "orig_nbformat": 4
 },
 "nbformat": 4,
 "nbformat_minor": 2
}
